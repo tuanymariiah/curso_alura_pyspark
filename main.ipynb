{
 "cells": [
  {
   "attachments": {},
   "cell_type": "markdown",
   "metadata": {},
   "source": [
    "## Importacao das bibliotecas e chamada do spark"
   ]
  },
  {
   "cell_type": "code",
   "execution_count": 3,
   "metadata": {},
   "outputs": [],
   "source": [
    "from pyspark.sql import SparkSession, DataFrame, functions as F\n",
    "from pyspark.sql.types import DoubleType, StringType\n",
    "from typing import Union, List\n",
    "\n",
    "spark = SparkSession.builder\\\n",
    "                    .master('local[*]')\\\n",
    "                    .appName('Iniciando com spark')\\\n",
    "                    .getOrCreate()"
   ]
  },
  {
   "attachments": {},
   "cell_type": "markdown",
   "metadata": {},
   "source": [
    "## Leitura dos arquivos"
   ]
  },
  {
   "cell_type": "code",
   "execution_count": 4,
   "metadata": {},
   "outputs": [],
   "source": [
    "socios           = spark.read.csv('/Users/tuanymariah/Documents/estudos_pyspark/data/socios', sep = ';', inferSchema = True)\n",
    "empresas         = spark.read.csv('/Users/tuanymariah/Documents/estudos_pyspark/data/empresas', sep = ';', inferSchema = True)\n",
    "estabelecimentos = spark.read.csv('/Users/tuanymariah/Documents/estudos_pyspark/data/estabelecimentos', sep = ';', inferSchema = True)"
   ]
  },
  {
   "attachments": {},
   "cell_type": "markdown",
   "metadata": {},
   "source": [
    "## Manipulacao dos dados"
   ]
  },
  {
   "cell_type": "code",
   "execution_count": 5,
   "metadata": {},
   "outputs": [
    {
     "name": "stdout",
     "output_type": "stream",
     "text": [
      "printando o dataframde socios\n",
      "+-----+---+-------------------------------+-----------+---+--------+----+-----------+----+---+----+\n",
      "|_c0  |_c1|_c2                            |_c3        |_c4|_c5     |_c6 |_c7        |_c8 |_c9|_c10|\n",
      "+-----+---+-------------------------------+-----------+---+--------+----+-----------+----+---+----+\n",
      "|411  |2  |LILIANA PATRICIA GUASTAVINO    |***678188**|22 |19940725|null|***000000**|null|0  |7   |\n",
      "|411  |2  |CRISTINA HUNDERTMARK           |***637848**|28 |19940725|null|***000000**|null|0  |7   |\n",
      "|5813 |2  |CELSO EDUARDO DE CASTRO STEPHAN|***786068**|49 |19940516|null|***000000**|null|0  |8   |\n",
      "|5813 |2  |EDUARDO BERRINGER STEPHAN      |***442348**|49 |19940516|null|***000000**|null|0  |5   |\n",
      "|14798|2  |HANNE MAHFOUD FADEL            |***760388**|49 |19940609|null|***000000**|null|0  |8   |\n",
      "+-----+---+-------------------------------+-----------+---+--------+----+-----------+----+---+----+\n",
      "\n",
      "printando o dataframde empresas\n",
      "+----+--------------------------------------------------------------------------------------------+----+---+-------+---+----+\n",
      "|_c0 |_c1                                                                                         |_c2 |_c3|_c4    |_c5|_c6 |\n",
      "+----+--------------------------------------------------------------------------------------------+----+---+-------+---+----+\n",
      "|306 |FRANCAMAR REFRIGERACAO TECNICA S/C LTDA                                                     |2240|49 |0,00   |1  |null|\n",
      "|1355|BRASILEIRO & OLIVEIRA LTDA                                                                  |2062|49 |0,00   |5  |null|\n",
      "|4820|REGISTRO DE IMOVEIS, TABELIONATO 1 DE NOTAS E TABELIONATO E REGISTRO DE CONSTRATOS MARITIMOS|3034|32 |0,00   |5  |null|\n",
      "|5347|ROSELY APARECIDA MONTEIRO CALTABIANO FREITAS                                                |2135|50 |0,00   |5  |null|\n",
      "|6846|BADU E FILHOS TECIDOS LTDA                                                                  |2062|49 |4000,00|1  |null|\n",
      "+----+--------------------------------------------------------------------------------------------+----+---+-------+---+----+\n",
      "\n",
      "printando o dataframde estabelecimentos\n",
      "+----+---+---+---+-----------------+---+--------+---+----+----+--------+-------+----+----+----------------------+----+-------+------------------+-------+----+----+----+----+----+----+----+----+----+----+----+\n",
      "|_c0 |_c1|_c2|_c3|_c4              |_c5|_c6     |_c7|_c8 |_c9 |_c10    |_c11   |_c12|_c13|_c14                  |_c15|_c16   |_c17              |_c18   |_c19|_c20|_c21|_c22|_c23|_c24|_c25|_c26|_c27|_c28|_c29|\n",
      "+----+---+---+---+-----------------+---+--------+---+----+----+--------+-------+----+----+----------------------+----+-------+------------------+-------+----+----+----+----+----+----+----+----+----+----+----+\n",
      "|1879|1  |96 |1  |PIRAMIDE M. C.   |8  |20011029|1  |null|null|19940509|1412602|null|RUA |JOSE FIGLIOLINI       |608 |null   |VILA NILO         |2278020|SP  |7107|null|null|null|null|null|null|null|null|null|\n",
      "|2818|1  |43 |1  |null             |8  |20081231|71 |null|null|19940512|4671100|null|RUA |BAQUIA                |416 |null   |VL NOVA MANCHESTER|3443000|SP  |7107|null|null|null|null|null|null|null|null|null|\n",
      "|3110|1  |7  |1  |null             |8  |19971231|1  |null|null|19940512|4789007|null|RUA |LEOCADIA CINTRA       |180 |CONJ 83|MOOCA             |3112040|SP  |7107|null|null|null|null|null|null|null|null|null|\n",
      "|3733|1  |80 |1  |null             |8  |20081231|71 |null|null|19940513|7490101|null|RUA |AFONSO CELSO          |1102|CASA 1 |VILA MARIANA      |4119061|SP  |7107|null|null|null|null|null|null|null|null|null|\n",
      "|4628|3  |27 |2  |EMBROIDERY & GIFT|8  |19980429|1  |null|null|19950509|4755501|null|RUA |DOUTOR GABRIEL NICOLAU|177 |null   |RUDGE RAMOS       |9632040|SP  |7075|null|null|null|null|null|null|null|null|null|\n",
      "+----+---+---+---+-----------------+---+--------+---+----+----+--------+-------+----+----+----------------------+----+-------+------------------+-------+----+----+----+----+----+----+----+----+----+----+----+\n",
      "\n"
     ]
    }
   ],
   "source": [
    "print('printando o dataframde socios')\n",
    "socios.limit(5).show(truncate=False)\n",
    "\n",
    "print('printando o dataframde empresas')\n",
    "empresas.limit(5).show(truncate=False)\n",
    "\n",
    "print('printando o dataframde estabelecimentos')\n",
    "estabelecimentos.limit(5).show(truncate=False)"
   ]
  },
  {
   "attachments": {},
   "cell_type": "markdown",
   "metadata": {},
   "source": [
    "## Renomeando colunas do dataframe"
   ]
  },
  {
   "cell_type": "code",
   "execution_count": 6,
   "metadata": {},
   "outputs": [
    {
     "name": "stdout",
     "output_type": "stream",
     "text": [
      "printando o dataframde socios\n",
      "+-----------+----------------------+-------------------------------+--------------------+---------------------+-------------------------+----+-------------------+---------------------+-----------------------------------+------------+\n",
      "|cnpj_basico|identificador_de_socio|nome_do_socio_ou_razao_social  |cnpj_ou_cpf_do_socio|qualificacao_do_socio|data_de_entrada_sociedade|pais|representante_legal|nome_do_representante|qualificacao_do_representante_legal|faixa_etaria|\n",
      "+-----------+----------------------+-------------------------------+--------------------+---------------------+-------------------------+----+-------------------+---------------------+-----------------------------------+------------+\n",
      "|411        |2                     |LILIANA PATRICIA GUASTAVINO    |***678188**         |22                   |19940725                 |null|***000000**        |null                 |0                                  |7           |\n",
      "|411        |2                     |CRISTINA HUNDERTMARK           |***637848**         |28                   |19940725                 |null|***000000**        |null                 |0                                  |7           |\n",
      "|5813       |2                     |CELSO EDUARDO DE CASTRO STEPHAN|***786068**         |49                   |19940516                 |null|***000000**        |null                 |0                                  |8           |\n",
      "|5813       |2                     |EDUARDO BERRINGER STEPHAN      |***442348**         |49                   |19940516                 |null|***000000**        |null                 |0                                  |5           |\n",
      "|14798      |2                     |HANNE MAHFOUD FADEL            |***760388**         |49                   |19940609                 |null|***000000**        |null                 |0                                  |8           |\n",
      "+-----------+----------------------+-------------------------------+--------------------+---------------------+-------------------------+----+-------------------+---------------------+-----------------------------------+------------+\n",
      "\n",
      "printando o dataframde empresas\n",
      "+-----------+--------------------------------------------------------------------------------------------+-----------------+---------------------------+-------------------------+----------------+---------------------------+\n",
      "|cnpj_basico|razao_social_nome_empresarial                                                               |natureza_juridica|qualificacao_do_responsavel|capital_social_da_empresa|porte_da_empresa|ente_federativo_responsavel|\n",
      "+-----------+--------------------------------------------------------------------------------------------+-----------------+---------------------------+-------------------------+----------------+---------------------------+\n",
      "|306        |FRANCAMAR REFRIGERACAO TECNICA S/C LTDA                                                     |2240             |49                         |0,00                     |1               |null                       |\n",
      "|1355       |BRASILEIRO & OLIVEIRA LTDA                                                                  |2062             |49                         |0,00                     |5               |null                       |\n",
      "|4820       |REGISTRO DE IMOVEIS, TABELIONATO 1 DE NOTAS E TABELIONATO E REGISTRO DE CONSTRATOS MARITIMOS|3034             |32                         |0,00                     |5               |null                       |\n",
      "|5347       |ROSELY APARECIDA MONTEIRO CALTABIANO FREITAS                                                |2135             |50                         |0,00                     |5               |null                       |\n",
      "|6846       |BADU E FILHOS TECIDOS LTDA                                                                  |2062             |49                         |4000,00                  |1               |null                       |\n",
      "+-----------+--------------------------------------------------------------------------------------------+-----------------+---------------------------+-------------------------+----------------+---------------------------+\n",
      "\n",
      "printando o dataframde estabelecimentos\n",
      "+-----------+----------+-------+---------------------------+-----------------+------------------+-----------------------+-------------------------+--------------------------+----+------------------------+---------------------+----------------------+------------------+----------------------+------+-----------+------------------+-------+---+---------+-----+----------+-----+----------+----------+----+------------------+-----------------+-------------------------+\n",
      "|cnpj_basico|cnpj_ordem|cnpj_dv|identificador_matriz_filial|nome_fantasia    |situacao_cadastral|data_situacao_cadastral|motivo_situacao_cadastral|nome_da_cidade_no_exterior|pais|data_de_inicio_atividade|cnae_fiscal_principal|cnae_fiscal_secundaria|tipo_de_logradouro|logradouro            |numero|complemento|bairro            |cep    |uf |municipio|ddd_1|telefone_1|ddd_2|telefone_2|ddd_do_fax|fax |correio_eletronico|situacao_especial|data_da_situacao_especial|\n",
      "+-----------+----------+-------+---------------------------+-----------------+------------------+-----------------------+-------------------------+--------------------------+----+------------------------+---------------------+----------------------+------------------+----------------------+------+-----------+------------------+-------+---+---------+-----+----------+-----+----------+----------+----+------------------+-----------------+-------------------------+\n",
      "|1879       |1         |96     |1                          |PIRAMIDE M. C.   |8                 |20011029               |1                        |null                      |null|19940509                |1412602              |null                  |RUA               |JOSE FIGLIOLINI       |608   |null       |VILA NILO         |2278020|SP |7107     |null |null      |null |null      |null      |null|null              |null             |null                     |\n",
      "|2818       |1         |43     |1                          |null             |8                 |20081231               |71                       |null                      |null|19940512                |4671100              |null                  |RUA               |BAQUIA                |416   |null       |VL NOVA MANCHESTER|3443000|SP |7107     |null |null      |null |null      |null      |null|null              |null             |null                     |\n",
      "|3110       |1         |7      |1                          |null             |8                 |19971231               |1                        |null                      |null|19940512                |4789007              |null                  |RUA               |LEOCADIA CINTRA       |180   |CONJ 83    |MOOCA             |3112040|SP |7107     |null |null      |null |null      |null      |null|null              |null             |null                     |\n",
      "|3733       |1         |80     |1                          |null             |8                 |20081231               |71                       |null                      |null|19940513                |7490101              |null                  |RUA               |AFONSO CELSO          |1102  |CASA 1     |VILA MARIANA      |4119061|SP |7107     |null |null      |null |null      |null      |null|null              |null             |null                     |\n",
      "|4628       |3         |27     |2                          |EMBROIDERY & GIFT|8                 |19980429               |1                        |null                      |null|19950509                |4755501              |null                  |RUA               |DOUTOR GABRIEL NICOLAU|177   |null       |RUDGE RAMOS       |9632040|SP |7075     |null |null      |null |null      |null      |null|null              |null             |null                     |\n",
      "+-----------+----------+-------+---------------------------+-----------------+------------------+-----------------------+-------------------------+--------------------------+----+------------------------+---------------------+----------------------+------------------+----------------------+------+-----------+------------------+-------+---+---------+-----+----------+-----+----------+----------+----+------------------+-----------------+-------------------------+\n",
      "\n"
     ]
    }
   ],
   "source": [
    "empresasColNames = ['cnpj_basico', 'razao_social_nome_empresarial', 'natureza_juridica', 'qualificacao_do_responsavel', 'capital_social_da_empresa', 'porte_da_empresa', 'ente_federativo_responsavel']\n",
    "estabsColNames   = ['cnpj_basico', 'cnpj_ordem', 'cnpj_dv', 'identificador_matriz_filial', 'nome_fantasia', 'situacao_cadastral', 'data_situacao_cadastral', 'motivo_situacao_cadastral', 'nome_da_cidade_no_exterior', 'pais', 'data_de_inicio_atividade', 'cnae_fiscal_principal', 'cnae_fiscal_secundaria', 'tipo_de_logradouro', 'logradouro', 'numero', 'complemento', 'bairro', 'cep', 'uf', 'municipio', 'ddd_1', 'telefone_1', 'ddd_2', 'telefone_2', 'ddd_do_fax', 'fax', 'correio_eletronico', 'situacao_especial', 'data_da_situacao_especial']\n",
    "sociosColNames   = ['cnpj_basico', 'identificador_de_socio', 'nome_do_socio_ou_razao_social', 'cnpj_ou_cpf_do_socio', 'qualificacao_do_socio', 'data_de_entrada_sociedade', 'pais', 'representante_legal', 'nome_do_representante', 'qualificacao_do_representante_legal', 'faixa_etaria']\n",
    "\n",
    "def column_renaming(list_cols: list, df:DataFrame) -> DataFrame:\n",
    "    for index, colName in enumerate(list_cols,):\n",
    "        df = df.withColumnRenamed(f\"_c{index}\", colName)\n",
    "    \n",
    "    return df\n",
    "\n",
    "empresas = column_renaming(empresasColNames, empresas)\n",
    "estabelecimentos = column_renaming(estabsColNames, estabelecimentos)\n",
    "socios = column_renaming(sociosColNames, socios)\n",
    "\n",
    "print('printando o dataframde socios')\n",
    "socios.limit(5).show(truncate=False)\n",
    "\n",
    "print('printando o dataframde empresas')\n",
    "empresas.limit(5).show(truncate=False)\n",
    "\n",
    "print('printando o dataframde estabelecimentos')\n",
    "estabelecimentos.limit(5).show(truncate=False)"
   ]
  },
  {
   "attachments": {},
   "cell_type": "markdown",
   "metadata": {},
   "source": [
    "## Analisando os dados após as renomeação das colunas"
   ]
  },
  {
   "cell_type": "code",
   "execution_count": 7,
   "metadata": {},
   "outputs": [
    {
     "name": "stdout",
     "output_type": "stream",
     "text": [
      "root\n",
      " |-- cnpj_basico: integer (nullable = true)\n",
      " |-- razao_social_nome_empresarial: string (nullable = true)\n",
      " |-- natureza_juridica: integer (nullable = true)\n",
      " |-- qualificacao_do_responsavel: integer (nullable = true)\n",
      " |-- capital_social_da_empresa: string (nullable = true)\n",
      " |-- porte_da_empresa: integer (nullable = true)\n",
      " |-- ente_federativo_responsavel: string (nullable = true)\n",
      "\n",
      "root\n",
      " |-- cnpj_basico: integer (nullable = true)\n",
      " |-- cnpj_ordem: integer (nullable = true)\n",
      " |-- cnpj_dv: integer (nullable = true)\n",
      " |-- identificador_matriz_filial: integer (nullable = true)\n",
      " |-- nome_fantasia: string (nullable = true)\n",
      " |-- situacao_cadastral: integer (nullable = true)\n",
      " |-- data_situacao_cadastral: integer (nullable = true)\n",
      " |-- motivo_situacao_cadastral: integer (nullable = true)\n",
      " |-- nome_da_cidade_no_exterior: string (nullable = true)\n",
      " |-- pais: integer (nullable = true)\n",
      " |-- data_de_inicio_atividade: integer (nullable = true)\n",
      " |-- cnae_fiscal_principal: integer (nullable = true)\n",
      " |-- cnae_fiscal_secundaria: string (nullable = true)\n",
      " |-- tipo_de_logradouro: string (nullable = true)\n",
      " |-- logradouro: string (nullable = true)\n",
      " |-- numero: string (nullable = true)\n",
      " |-- complemento: string (nullable = true)\n",
      " |-- bairro: string (nullable = true)\n",
      " |-- cep: integer (nullable = true)\n",
      " |-- uf: string (nullable = true)\n",
      " |-- municipio: integer (nullable = true)\n",
      " |-- ddd_1: string (nullable = true)\n",
      " |-- telefone_1: string (nullable = true)\n",
      " |-- ddd_2: string (nullable = true)\n",
      " |-- telefone_2: string (nullable = true)\n",
      " |-- ddd_do_fax: integer (nullable = true)\n",
      " |-- fax: string (nullable = true)\n",
      " |-- correio_eletronico: string (nullable = true)\n",
      " |-- situacao_especial: string (nullable = true)\n",
      " |-- data_da_situacao_especial: integer (nullable = true)\n",
      "\n",
      "root\n",
      " |-- cnpj_basico: integer (nullable = true)\n",
      " |-- identificador_de_socio: integer (nullable = true)\n",
      " |-- nome_do_socio_ou_razao_social: string (nullable = true)\n",
      " |-- cnpj_ou_cpf_do_socio: string (nullable = true)\n",
      " |-- qualificacao_do_socio: integer (nullable = true)\n",
      " |-- data_de_entrada_sociedade: integer (nullable = true)\n",
      " |-- pais: integer (nullable = true)\n",
      " |-- representante_legal: string (nullable = true)\n",
      " |-- nome_do_representante: string (nullable = true)\n",
      " |-- qualificacao_do_representante_legal: integer (nullable = true)\n",
      " |-- faixa_etaria: integer (nullable = true)\n",
      "\n"
     ]
    }
   ],
   "source": [
    "empresas.printSchema()\n",
    "estabelecimentos.printSchema()\n",
    "socios.printSchema()\n"
   ]
  },
  {
   "attachments": {},
   "cell_type": "markdown",
   "metadata": {},
   "source": [
    "## Convertendo colunas\n",
    "### String -> Double"
   ]
  },
  {
   "cell_type": "code",
   "execution_count": 8,
   "metadata": {},
   "outputs": [
    {
     "name": "stdout",
     "output_type": "stream",
     "text": [
      "root\n",
      " |-- cnpj_basico: integer (nullable = true)\n",
      " |-- razao_social_nome_empresarial: string (nullable = true)\n",
      " |-- natureza_juridica: integer (nullable = true)\n",
      " |-- qualificacao_do_responsavel: integer (nullable = true)\n",
      " |-- capital_social_da_empresa: double (nullable = true)\n",
      " |-- porte_da_empresa: integer (nullable = true)\n",
      " |-- ente_federativo_responsavel: string (nullable = true)\n",
      "\n"
     ]
    }
   ],
   "source": [
    "def convert_double(cols: List[str], df:DataFrame) -> DataFrame:\n",
    "    for col in cols:\n",
    "        df = df\\\n",
    "            .withColumn(\n",
    "                col,\n",
    "               F.regexp_replace(F.col(col), ',','.').cast(DoubleType())\n",
    "                        \n",
    "            )\n",
    "    return df\n",
    "empresas = convert_double(cols = ['capital_social_da_empresa'], df = empresas)\n",
    "empresas.printSchema()"
   ]
  },
  {
   "attachments": {},
   "cell_type": "markdown",
   "metadata": {},
   "source": [
    "### String -> Date"
   ]
  },
  {
   "cell_type": "code",
   "execution_count": 9,
   "metadata": {},
   "outputs": [],
   "source": [
    "def convert_date(cols: List[str], df:DataFrame) -> DataFrame:\n",
    "    for col in cols:\n",
    "        df = df\\\n",
    "            .withColumn(\n",
    "                col,\n",
    "                F.to_date(F.col(col).cast(StringType()), 'yyyyMMdd')\n",
    "                        \n",
    "            )\n",
    "    return  df\n",
    "    \n",
    "\n",
    "estabelecimentos = convert_date(cols = ['data_de_inicio_atividade', 'data_situacao_cadastral', 'data_da_situacao_especial'], df = estabelecimentos )  \n",
    "socios = convert_date(cols = ['data_de_entrada_sociedade'], df = socios )  \n"
   ]
  },
  {
   "attachments": {},
   "cell_type": "markdown",
   "metadata": {},
   "source": [
    "## Selecoes e consultas"
   ]
  },
  {
   "attachments": {},
   "cell_type": "markdown",
   "metadata": {},
   "source": [
    "primeiro irei realizar a selecao de consultas utilizando o *select* do pyspark, após isso criarei uma coluna utilizando o *withColumns*"
   ]
  },
  {
   "cell_type": "code",
   "execution_count": 10,
   "metadata": {},
   "outputs": [
    {
     "name": "stdout",
     "output_type": "stream",
     "text": [
      "+-----------+-------------------------+---------------------+\n",
      "|cnpj_basico|data_de_entrada_sociedade|ano_entrada_sociedade|\n",
      "+-----------+-------------------------+---------------------+\n",
      "|411        |1994-07-25               |1994                 |\n",
      "|411        |1994-07-25               |1994                 |\n",
      "|5813       |1994-05-16               |1994                 |\n",
      "|5813       |1994-05-16               |1994                 |\n",
      "|14798      |1994-06-09               |1994                 |\n",
      "+-----------+-------------------------+---------------------+\n",
      "only showing top 5 rows\n",
      "\n"
     ]
    }
   ],
   "source": [
    "socios\\\n",
    "    .select(F.col('cnpj_basico'), \n",
    "            F.col('data_de_entrada_sociedade'),\n",
    "            F.year(F.col('data_de_entrada_sociedade')).alias('ano_entrada_sociedade')\n",
    "            )\\\n",
    "    .show(5, truncate=False)"
   ]
  },
  {
   "attachments": {},
   "cell_type": "markdown",
   "metadata": {},
   "source": [
    "criacao da coluna **ano_entrada_sociedade** utilizando o **withColumn**"
   ]
  },
  {
   "cell_type": "code",
   "execution_count": 11,
   "metadata": {},
   "outputs": [],
   "source": [
    "socios = socios\\\n",
    "            .withColumn(\n",
    "                'ano_entrada_sociedade', F.year(F.col('data_de_entrada_sociedade'))\n",
    "            )"
   ]
  },
  {
   "attachments": {},
   "cell_type": "markdown",
   "metadata": {},
   "source": [
    "## Verificando valores nulos"
   ]
  },
  {
   "cell_type": "code",
   "execution_count": 12,
   "metadata": {},
   "outputs": [
    {
     "name": "stdout",
     "output_type": "stream",
     "text": [
      "Quantidade de valores nulos para estabelecimentos\n",
      "+-----------+----------+-------+---------------------------+-------------+------------------+-----------------------+-------------------------+--------------------------+-------+------------------------+---------------------+----------------------+------------------+----------+------+-----------+------+-----+---+---------+-------+----------+-------+----------+----------+-------+------------------+-----------------+-------------------------+\n",
      "|cnpj_basico|cnpj_ordem|cnpj_dv|identificador_matriz_filial|nome_fantasia|situacao_cadastral|data_situacao_cadastral|motivo_situacao_cadastral|nome_da_cidade_no_exterior|   pais|data_de_inicio_atividade|cnae_fiscal_principal|cnae_fiscal_secundaria|tipo_de_logradouro|logradouro|numero|complemento|bairro|  cep| uf|municipio|  ddd_1|telefone_1|  ddd_2|telefone_2|ddd_do_fax|    fax|correio_eletronico|situacao_especial|data_da_situacao_especial|\n",
      "+-----------+----------+-------+---------------------------+-------------+------------------+-----------------------+-------------------------+--------------------------+-------+------------------------+---------------------+----------------------+------------------+----------+------+-----------+------+-----+---+---------+-------+----------+-------+----------+----------+-------+------------------+-----------------+-------------------------+\n",
      "|          0|         0|      0|                          0|      2014706|                 0|                  16195|                        0|                   4833519|4823786|                       1|                    0|               2780434|             91499|       193|     0|    2831800| 37964|15033|  0|        0|1251627|   1251623|4424413|   4425166|   4132454|4131990|           2304672|          4836208|                  4836208|\n",
      "+-----------+----------+-------+---------------------------+-------------+------------------+-----------------------+-------------------------+--------------------------+-------+------------------------+---------------------+----------------------+------------------+----------+------+-----------+------+-----+---+---------+-------+----------+-------+----------+----------+-------+------------------+-----------------+-------------------------+\n",
      "\n",
      "Quantidade de valores nulos para empresas\n",
      "+-----------+-----------------------------+-----------------+---------------------------+-------------------------+----------------+---------------------------+\n",
      "|cnpj_basico|razao_social_nome_empresarial|natureza_juridica|qualificacao_do_responsavel|capital_social_da_empresa|porte_da_empresa|ente_federativo_responsavel|\n",
      "+-----------+-----------------------------+-----------------+---------------------------+-------------------------+----------------+---------------------------+\n",
      "|          0|                            0|                0|                          0|                        0|            5985|                    4579678|\n",
      "+-----------+-----------------------------+-----------------+---------------------------+-------------------------+----------------+---------------------------+\n",
      "\n",
      "Quantidade de valores nulos para socios\n",
      "+-----------+----------------------+-----------------------------+--------------------+---------------------+-------------------------+-------+-------------------+---------------------+-----------------------------------+------------+---------------------+\n",
      "|cnpj_basico|identificador_de_socio|nome_do_socio_ou_razao_social|cnpj_ou_cpf_do_socio|qualificacao_do_socio|data_de_entrada_sociedade|   pais|representante_legal|nome_do_representante|qualificacao_do_representante_legal|faixa_etaria|ano_entrada_sociedade|\n",
      "+-----------+----------------------+-----------------------------+--------------------+---------------------+-------------------------+-------+-------------------+---------------------+-----------------------------------+------------+---------------------+\n",
      "|          0|                     0|                          208|                1234|                    0|                        1|2038255|                  0|              1995432|                                  0|           0|                    1|\n",
      "+-----------+----------------------+-----------------------------+--------------------+---------------------+-------------------------+-------+-------------------+---------------------+-----------------------------------+------------+---------------------+\n",
      "\n"
     ]
    }
   ],
   "source": [
    "def qtd_valores_nulos(df: DataFrame ) -> DataFrame:\n",
    "    df = df.select([ F.count(F.when(F.isnull(col), 1)).alias(col) for col in df.columns])\n",
    "    return df\n",
    "print('Quantidade de valores nulos para estabelecimentos')\n",
    "nulos_estabelecimento = qtd_valores_nulos(df = estabelecimentos)\n",
    "nulos_estabelecimento.show()\n",
    "\n",
    "print('Quantidade de valores nulos para empresas')\n",
    "nulos_empresas = qtd_valores_nulos(df = empresas)\n",
    "nulos_empresas.show()\n",
    "\n",
    "print('Quantidade de valores nulos para socios')\n",
    "nulos_socios = qtd_valores_nulos(df = socios)\n",
    "nulos_socios.show()\n"
   ]
  },
  {
   "cell_type": "code",
   "execution_count": 13,
   "metadata": {},
   "outputs": [
    {
     "name": "stdout",
     "output_type": "stream",
     "text": [
      "+----+---+\n",
      "|pais| uf|\n",
      "+----+---+\n",
      "| 351| EX|\n",
      "|  23| EX|\n",
      "| 845| EX|\n",
      "| 137| EX|\n",
      "| 580| EX|\n",
      "+----+---+\n",
      "only showing top 5 rows\n",
      "\n"
     ]
    }
   ],
   "source": [
    "estabelecimentos.select(F.col('pais'),\n",
    "                        F.col('uf'))\\\n",
    "                .where(F.col('pais').isNotNull())\\\n",
    "                .show(5)\n"
   ]
  },
  {
   "cell_type": "code",
   "execution_count": 14,
   "metadata": {},
   "outputs": [],
   "source": [
    "estabelecimentos = estabelecimentos.withColumn('pais',\n",
    "                                 F.when((F.col('uf').isin([\n",
    "                                     'AC', 'AL', 'AM', 'AP', 'BA', 'CE', 'DF', 'ES', 'GO', 'MA', 'MG', 'MS',\n",
    "                                     'MT', 'PA', 'PB', 'PE', 'PI', 'PR', 'RJ', 'RN', 'RO', 'RR', 'RS', 'SC',\n",
    "                                     'SE', 'SP', 'TO']\n",
    "                                 )) & F.col('pais').isNull(), '55')\n",
    "                                 .otherwise(F.col('pais')))\n"
   ]
  },
  {
   "cell_type": "code",
   "execution_count": 15,
   "metadata": {},
   "outputs": [
    {
     "name": "stdout",
     "output_type": "stream",
     "text": [
      "root\n",
      " |-- cnpj_basico: integer (nullable = true)\n",
      " |-- razao_social_nome_empresarial: string (nullable = true)\n",
      " |-- natureza_juridica: integer (nullable = true)\n",
      " |-- qualificacao_do_responsavel: integer (nullable = true)\n",
      " |-- capital_social_da_empresa: double (nullable = true)\n",
      " |-- porte_da_empresa: integer (nullable = true)\n",
      " |-- ente_federativo_responsavel: string (nullable = true)\n",
      "\n"
     ]
    }
   ],
   "source": [
    "empresas.printSchema()"
   ]
  },
  {
   "cell_type": "code",
   "execution_count": 16,
   "metadata": {},
   "outputs": [],
   "source": [
    "df_all = empresas.join(estabelecimentos, on = 'cnpj_basico' , how = 'inner')"
   ]
  },
  {
   "cell_type": "code",
   "execution_count": 17,
   "metadata": {},
   "outputs": [
    {
     "name": "stdout",
     "output_type": "stream",
     "text": [
      "root\n",
      " |-- cnpj_basico: integer (nullable = true)\n",
      " |-- razao_social_nome_empresarial: string (nullable = true)\n",
      " |-- natureza_juridica: integer (nullable = true)\n",
      " |-- qualificacao_do_responsavel: integer (nullable = true)\n",
      " |-- capital_social_da_empresa: double (nullable = true)\n",
      " |-- porte_da_empresa: integer (nullable = true)\n",
      " |-- ente_federativo_responsavel: string (nullable = true)\n",
      " |-- cnpj_ordem: integer (nullable = true)\n",
      " |-- cnpj_dv: integer (nullable = true)\n",
      " |-- identificador_matriz_filial: integer (nullable = true)\n",
      " |-- nome_fantasia: string (nullable = true)\n",
      " |-- situacao_cadastral: integer (nullable = true)\n",
      " |-- data_situacao_cadastral: date (nullable = true)\n",
      " |-- motivo_situacao_cadastral: integer (nullable = true)\n",
      " |-- nome_da_cidade_no_exterior: string (nullable = true)\n",
      " |-- pais: string (nullable = true)\n",
      " |-- data_de_inicio_atividade: date (nullable = true)\n",
      " |-- cnae_fiscal_principal: integer (nullable = true)\n",
      " |-- cnae_fiscal_secundaria: string (nullable = true)\n",
      " |-- tipo_de_logradouro: string (nullable = true)\n",
      " |-- logradouro: string (nullable = true)\n",
      " |-- numero: string (nullable = true)\n",
      " |-- complemento: string (nullable = true)\n",
      " |-- bairro: string (nullable = true)\n",
      " |-- cep: integer (nullable = true)\n",
      " |-- uf: string (nullable = true)\n",
      " |-- municipio: integer (nullable = true)\n",
      " |-- ddd_1: string (nullable = true)\n",
      " |-- telefone_1: string (nullable = true)\n",
      " |-- ddd_2: string (nullable = true)\n",
      " |-- telefone_2: string (nullable = true)\n",
      " |-- ddd_do_fax: integer (nullable = true)\n",
      " |-- fax: string (nullable = true)\n",
      " |-- correio_eletronico: string (nullable = true)\n",
      " |-- situacao_especial: string (nullable = true)\n",
      " |-- data_da_situacao_especial: date (nullable = true)\n",
      "\n"
     ]
    }
   ],
   "source": [
    "df_all.printSchema()"
   ]
  },
  {
   "attachments": {},
   "cell_type": "markdown",
   "metadata": {},
   "source": [
    "A partir do select utilizando pyspark abaixo, podemos observar que algumas empresas possuem valores iguais a 0.0 no capital social da empresa,\n",
    "vamos filtrar esses registros por valores acima de 100?"
   ]
  },
  {
   "cell_type": "code",
   "execution_count": 18,
   "metadata": {},
   "outputs": [
    {
     "name": "stdout",
     "output_type": "stream",
     "text": [
      "+-------------------------------------------------------------+-------------+----------------+-------------------------+\n",
      "|razao_social_nome_empresarial                                |nome_fantasia|porte_da_empresa|capital_social_da_empresa|\n",
      "+-------------------------------------------------------------+-------------+----------------+-------------------------+\n",
      "|PLANNER COMUNICACAO PUBLICIDADE E ASSESSORIA PROMOCIONAL LTDA|null         |5               |0.0                      |\n",
      "|ROUPA VIVA SERVICOS DE LAVANDERIA LTDA                       |null         |5               |0.0                      |\n",
      "|IN FOCO PRODUCOES FOTOGRAFICAS S/S LTDA                      |null         |1               |500.0                    |\n",
      "|CLINICA ROMA S/C LTDA                                        |null         |5               |0.0                      |\n",
      "|APRENDENDO A VIVER E CRESCER                                 |null         |5               |0.0                      |\n",
      "+-------------------------------------------------------------+-------------+----------------+-------------------------+\n",
      "only showing top 5 rows\n",
      "\n"
     ]
    }
   ],
   "source": [
    "df_all.select(F.col('razao_social_nome_empresarial'), \n",
    "              F.col('nome_fantasia'),\n",
    "              F.col('porte_da_empresa'),\n",
    "              F.col('capital_social_da_empresa'))\\\n",
    "      .show(5,truncate = False)\n",
    "\n"
   ]
  },
  {
   "cell_type": "code",
   "execution_count": 19,
   "metadata": {},
   "outputs": [
    {
     "name": "stdout",
     "output_type": "stream",
     "text": [
      "+--------------------------------------------------+----------------------------------+----------------+-------------------------+\n",
      "|razao_social_nome_empresarial                     |nome_fantasia                     |porte_da_empresa|capital_social_da_empresa|\n",
      "+--------------------------------------------------+----------------------------------+----------------+-------------------------+\n",
      "|IN FOCO PRODUCOES FOTOGRAFICAS S/S LTDA           |null                              |1               |500.0                    |\n",
      "|CENTRAL LUB COMERCIO DE OLEO E REPRESENTACOES LTDA|null                              |1               |650000.0                 |\n",
      "|AMERICO REGATIERI NETO REPRESENTACOES             |null                              |1               |5000.0                   |\n",
      "|TECBATERY ESCOLA LIVRE DE MUSICA LTDA             |null                              |1               |5000.0                   |\n",
      "|COMERCIAL FREITAS & VIEIRA LTDA                   |EMBALAGENS SERLUZ                 |1               |1000.0                   |\n",
      "|ETAMINE CONFECCOES E COMERCIO LTDA                |null                              |1               |1092.0                   |\n",
      "|SERRALHERIA CHUBA LTDA                            |null                              |1               |20000.0                  |\n",
      "|TRANSPORTES LAURO VERONEZI EIRELI                 |null                              |3               |100000.0                 |\n",
      "|TRANSPORTES LAURO VERONEZI EIRELI                 |TRANSPORTES LAURO VERONEZI LTDA ME|3               |100000.0                 |\n",
      "|TRANSPORTES LAURO VERONEZI EIRELI                 |null                              |3               |100000.0                 |\n",
      "|RAMIRES BIRIGUI EIRELI                            |null                              |1               |100000.0                 |\n",
      "|MCH IMOVEIS E ADMINISTRACAO LTDA                  |MCH IMOVEIS                       |1               |5000.0                   |\n",
      "|URBANIZA LOTEADORA E INCORPORADORA LIMITADA       |null                              |1               |364.0                    |\n",
      "|PAULA FERREIRA COMERCIAL LTDA                     |null                              |3               |200000.0                 |\n",
      "|MILTON ALVES DA SILVA MADEIRAS                    |null                              |1               |15000.0                  |\n",
      "|CELIO APARECIDO DE JESUS LANCHONETE               |ISAUE                             |1               |15000.0                  |\n",
      "|BIKELANDO MONTADORA DE BICICLETAS EIRELI          |null                              |5               |150000.0                 |\n",
      "|HARBS ETIQUETAS COMERCIAL LTDA                    |null                              |3               |10000.0                  |\n",
      "|REBIC COMERCIAL LIMITADA                          |REBIC                             |5               |2.5836239E7              |\n",
      "|REBIC COMERCIAL LIMITADA                          |REBIC COMERCIAL LTDA              |5               |2.5836239E7              |\n",
      "+--------------------------------------------------+----------------------------------+----------------+-------------------------+\n",
      "only showing top 20 rows\n",
      "\n"
     ]
    }
   ],
   "source": [
    "df_all\\\n",
    "    .select(F.col('razao_social_nome_empresarial'), \n",
    "            F.col('nome_fantasia'),\n",
    "            F.col('porte_da_empresa'),\n",
    "            F.col('capital_social_da_empresa'))\\\n",
    "    .where(F.col('capital_social_da_empresa')>100)\\\n",
    "    .show(truncate = False)"
   ]
  }
 ],
 "metadata": {
  "kernelspec": {
   "display_name": "Python 3",
   "language": "python",
   "name": "python3"
  },
  "language_info": {
   "codemirror_mode": {
    "name": "ipython",
    "version": 3
   },
   "file_extension": ".py",
   "mimetype": "text/x-python",
   "name": "python",
   "nbconvert_exporter": "python",
   "pygments_lexer": "ipython3",
   "version": "3.6.12"
  },
  "orig_nbformat": 4
 },
 "nbformat": 4,
 "nbformat_minor": 2
}
